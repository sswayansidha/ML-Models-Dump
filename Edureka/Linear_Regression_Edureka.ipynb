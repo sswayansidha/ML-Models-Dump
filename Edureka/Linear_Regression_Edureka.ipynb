{
  "nbformat": 4,
  "nbformat_minor": 0,
  "metadata": {
    "colab": {
      "name": "Linear_Regression_Edureka.ipynb",
      "provenance": [],
      "collapsed_sections": [],
      "authorship_tag": "ABX9TyPIZ6sGqrYJNp6DtcyJ25kI",
      "include_colab_link": true
    },
    "kernelspec": {
      "name": "python3",
      "display_name": "Python 3"
    },
    "language_info": {
      "name": "python"
    }
  },
  "cells": [
    {
      "cell_type": "markdown",
      "metadata": {
        "id": "view-in-github",
        "colab_type": "text"
      },
      "source": [
        "<a href=\"https://colab.research.google.com/github/sswayansidha/ML_Models/blob/main/Edureka/Linear_Regression_Edureka.ipynb\" target=\"_parent\"><img src=\"https://colab.research.google.com/assets/colab-badge.svg\" alt=\"Open In Colab\"/></a>"
      ]
    },
    {
      "cell_type": "markdown",
      "source": [
        "#**Simple Linear Regression**"
      ],
      "metadata": {
        "id": "uWOg9StUevkV"
      }
    },
    {
      "cell_type": "code",
      "execution_count": 1,
      "metadata": {
        "id": "vfqY5ROPdFeQ"
      },
      "outputs": [],
      "source": [
        "import numpy as np\n",
        "import matplotlib.pyplot as plt\n",
        "%matplotlib inline"
      ]
    },
    {
      "cell_type": "code",
      "source": [
        "#Function to find y intercept(b) and slope(m) in y=mx+b\n",
        "def coef_estimation(x,y):\n",
        "  #number of observation or points\n",
        "  n = np.size(x)\n",
        "\n",
        "  #find the mean of x and y\n",
        "  x_mean = np.mean(x)\n",
        "  y_mean = np.mean(y)\n",
        "\n",
        "  #Use sum of square to find out the intercept and slope\n",
        "  ss_xy = np.sum(y*x) - (n*y_mean*x_mean)\n",
        "  ss_xx = np.sum(x*x) - (n*x_mean*x_mean)\n",
        "\n",
        "  #Calculating regressions coefficients\n",
        "  slope = ss_xy/ss_xx\n",
        "  y_intercept = y_mean - slope*x_mean\n",
        "\n",
        "  return (y_intercept,slope)\n"
      ],
      "metadata": {
        "id": "LI7pOzLlfKOy"
      },
      "execution_count": 2,
      "outputs": []
    },
    {
      "cell_type": "code",
      "source": [
        "def regression_line_plot(x,y,b):\n",
        "  plt.scatter(x,y,color=\"b\")\n",
        "\n",
        "  #Calculating predicted response from y = mx+b\n",
        "  y_pred = b[1]*x + b[0]\n",
        "\n",
        "  #plotting the regression \n",
        "  plt.plot(x,y_pred,color = 'g')\n",
        "\n",
        "  #adding labels to the axes\n",
        "  plt.xlabel('x_axis')\n",
        "  plt.ylabel('y_axis')\n",
        "\n",
        "  plt.show()"
      ],
      "metadata": {
        "id": "VAn-VB7Vmu4T"
      },
      "execution_count": 4,
      "outputs": []
    },
    {
      "cell_type": "code",
      "source": [
        "#Observations\n",
        "x = np.array([1,2,3,4,5])\n",
        "y = np.array([3,4,2,4,5])\n",
        "\n",
        "#estimating coefficients\n",
        "b = coef_estimation(x,y)\n",
        "print(\"Estimated Coefficients:\\nc={}\\nm={}\".format(b[0],b[1]))\n",
        "\n",
        "#Plotting Regression Line\n",
        "regression_line_plot(x,y,b)"
      ],
      "metadata": {
        "colab": {
          "base_uri": "https://localhost:8080/",
          "height": 332
        },
        "id": "Dc_CnAndoTnN",
        "outputId": "6c7c559f-80c1-469b-f597-ff3f9f57e8ca"
      },
      "execution_count": 5,
      "outputs": [
        {
          "output_type": "stream",
          "name": "stdout",
          "text": [
            "Estimated Coefficients:\n",
            "c=2.4\n",
            "m=0.4\n"
          ]
        },
        {
          "output_type": "display_data",
          "data": {
            "image/png": "[encoded data removed]",
            "text/plain": [
              "<Figure size 432x288 with 1 Axes>"
            ]
          },
          "metadata": {
            "needs_background": "light"
          }
        }
      ]
    },
    {
      "cell_type": "code",
      "source": [
        ""
      ],
      "metadata": {
        "id": "tLLjxHLSpaLQ"
      },
      "execution_count": null,
      "outputs": []
    }
  ]
}